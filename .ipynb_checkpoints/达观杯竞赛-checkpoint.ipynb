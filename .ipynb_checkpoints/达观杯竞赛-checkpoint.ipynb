{
 "cells": [
  {
   "cell_type": "markdown",
   "metadata": {},
   "source": [
    "# “达观杯”文本智能处理挑战赛\n",
    "\n",
    "## 数据\n",
    "\n",
    "数据包含2个csv文件：\n",
    "\n",
    "》train_set.csv：此数据集用于训练模型，每一行对应一篇文章。文章分别在“字”和“词”的级别上做了脱敏处理。共有四列：\n",
    "第一列是文章的索引(id)，第二列是文章正文在“字”级别上的表示，即字符相隔正文(article)；第三列是在“词”级别上的表示，即词语相隔正文(word_seg)；第四列是这篇文章的标注(class)。\n",
    "注：每一个数字对应一个“字”，或“词”，或“标点符号”。“字”的编号与“词”的编号是独立的！\n",
    "\n",
    "》test_set.csv：此数据用于测试。数据格式同train_set.csv，但不包含class。\n",
    "注：test_set与train_test中文章id的编号是独立的。\n",
    "\n",
    "### 评分标准\n",
    "\n",
    "评分算法\n",
    "binary-classification\n",
    "评分标准\n",
    "采用各个品类F1指标的算术平均值，它是Precision 和 Recall 的调和平均数。\n",
    "\n",
    "AB榜的划分方式和比例：\n",
    "【1】评分采用AB榜形式，提交文件必须包含测试集中所有用户的预测值。排行榜显示A榜成绩，竞赛结束后2小时切换成B榜单。B榜成绩以选定的两次提交或者默认的最后两次提交的最高分为准，最终比赛成绩以B榜单为准。\n",
    "\n",
    "【2】此题目的AB榜是随机划分，A榜数据占50%，B榜使用全量测试集，即占100%。"
   ]
  },
  {
   "cell_type": "markdown",
   "metadata": {},
   "source": [
    "### 导入包"
   ]
  },
  {
   "cell_type": "code",
   "execution_count": 1,
   "metadata": {},
   "outputs": [],
   "source": [
    "# 数据处理\n",
    "import numpy as np\n",
    "import pandas as pd\n",
    "\n",
    "# 数据可视化\n",
    "import matplotlib.pyplot as plt\n",
    "import seaborn as sns\n",
    "sns.set()\n",
    "# 系统文件\n",
    "import os\n"
   ]
  },
  {
   "cell_type": "code",
   "execution_count": 2,
   "metadata": {},
   "outputs": [
    {
     "data": {
      "text/plain": [
       "['biliHelp.js',\n",
       " 'data_grand.py',\n",
       " 'hello.png',\n",
       " 'hive.sql',\n",
       " 'logsit.py',\n",
       " 'manifold learning.py',\n",
       " 'stockTickers.py',\n",
       " 'test_set.csv',\n",
       " 'train_set.csv']"
      ]
     },
     "execution_count": 2,
     "metadata": {},
     "output_type": "execute_result"
    }
   ],
   "source": [
    "# 数据所在文件夹\n",
    "os.listdir(r'C:\\Users\\10068899\\OneDrive\\sublime python\\new_data')"
   ]
  },
  {
   "cell_type": "markdown",
   "metadata": {},
   "source": [
    "### 导入数据"
   ]
  },
  {
   "cell_type": "code",
   "execution_count": 3,
   "metadata": {},
   "outputs": [
    {
     "name": "stdout",
     "output_type": "stream",
     "text": [
      "train_data.shape: (102277, 4)\n"
     ]
    },
    {
     "data": {
      "text/html": [
       "<div>\n",
       "<style scoped>\n",
       "    .dataframe tbody tr th:only-of-type {\n",
       "        vertical-align: middle;\n",
       "    }\n",
       "\n",
       "    .dataframe tbody tr th {\n",
       "        vertical-align: top;\n",
       "    }\n",
       "\n",
       "    .dataframe thead th {\n",
       "        text-align: right;\n",
       "    }\n",
       "</style>\n",
       "<table border=\"1\" class=\"dataframe\">\n",
       "  <thead>\n",
       "    <tr style=\"text-align: right;\">\n",
       "      <th></th>\n",
       "      <th>id</th>\n",
       "      <th>article</th>\n",
       "      <th>word_seg</th>\n",
       "      <th>class</th>\n",
       "    </tr>\n",
       "  </thead>\n",
       "  <tbody>\n",
       "    <tr>\n",
       "      <th>0</th>\n",
       "      <td>0</td>\n",
       "      <td>7368 1252069 365865 755561 1044285 129532 1053...</td>\n",
       "      <td>816903 597526 520477 1179558 1033823 758724 63...</td>\n",
       "      <td>14</td>\n",
       "    </tr>\n",
       "    <tr>\n",
       "      <th>1</th>\n",
       "      <td>1</td>\n",
       "      <td>581131 165432 7368 957317 1197553 570900 33659...</td>\n",
       "      <td>90540 816903 441039 816903 569138 816903 10343...</td>\n",
       "      <td>3</td>\n",
       "    </tr>\n",
       "    <tr>\n",
       "      <th>2</th>\n",
       "      <td>2</td>\n",
       "      <td>7368 87936 40494 490286 856005 641588 145611 1...</td>\n",
       "      <td>816903 1012629 957974 1033823 328210 947200 65...</td>\n",
       "      <td>12</td>\n",
       "    </tr>\n",
       "    <tr>\n",
       "      <th>3</th>\n",
       "      <td>3</td>\n",
       "      <td>299237 760651 299237 887082 159592 556634 7489...</td>\n",
       "      <td>563568 1239563 680125 780219 782805 1033823 19...</td>\n",
       "      <td>13</td>\n",
       "    </tr>\n",
       "    <tr>\n",
       "      <th>4</th>\n",
       "      <td>4</td>\n",
       "      <td>7368 7368 7368 865510 7368 396966 995243 37685...</td>\n",
       "      <td>816903 816903 816903 139132 816903 312320 1103...</td>\n",
       "      <td>12</td>\n",
       "    </tr>\n",
       "  </tbody>\n",
       "</table>\n",
       "</div>"
      ],
      "text/plain": [
       "   id                                            article  \\\n",
       "0   0  7368 1252069 365865 755561 1044285 129532 1053...   \n",
       "1   1  581131 165432 7368 957317 1197553 570900 33659...   \n",
       "2   2  7368 87936 40494 490286 856005 641588 145611 1...   \n",
       "3   3  299237 760651 299237 887082 159592 556634 7489...   \n",
       "4   4  7368 7368 7368 865510 7368 396966 995243 37685...   \n",
       "\n",
       "                                            word_seg  class  \n",
       "0  816903 597526 520477 1179558 1033823 758724 63...     14  \n",
       "1  90540 816903 441039 816903 569138 816903 10343...      3  \n",
       "2  816903 1012629 957974 1033823 328210 947200 65...     12  \n",
       "3  563568 1239563 680125 780219 782805 1033823 19...     13  \n",
       "4  816903 816903 816903 139132 816903 312320 1103...     12  "
      ]
     },
     "execution_count": 3,
     "metadata": {},
     "output_type": "execute_result"
    }
   ],
   "source": [
    "# 导入训练集\n",
    "train_data = pd.read_csv(r'C:\\Users\\10068899\\OneDrive\\sublime python\\new_data\\train_set.csv')\n",
    "print(\"train_data.shape:\",train_data.shape)\n",
    "train_data.head()"
   ]
  },
  {
   "cell_type": "markdown",
   "metadata": {},
   "source": [
    "训练集共有102277条数据，包括预测的类别共有4个特征。"
   ]
  },
  {
   "cell_type": "code",
   "execution_count": 4,
   "metadata": {},
   "outputs": [
    {
     "name": "stdout",
     "output_type": "stream",
     "text": [
      "test_data.shape: (102277, 3)\n"
     ]
    },
    {
     "data": {
      "text/html": [
       "<div>\n",
       "<style scoped>\n",
       "    .dataframe tbody tr th:only-of-type {\n",
       "        vertical-align: middle;\n",
       "    }\n",
       "\n",
       "    .dataframe tbody tr th {\n",
       "        vertical-align: top;\n",
       "    }\n",
       "\n",
       "    .dataframe thead th {\n",
       "        text-align: right;\n",
       "    }\n",
       "</style>\n",
       "<table border=\"1\" class=\"dataframe\">\n",
       "  <thead>\n",
       "    <tr style=\"text-align: right;\">\n",
       "      <th></th>\n",
       "      <th>id</th>\n",
       "      <th>article</th>\n",
       "      <th>word_seg</th>\n",
       "    </tr>\n",
       "  </thead>\n",
       "  <tbody>\n",
       "    <tr>\n",
       "      <th>0</th>\n",
       "      <td>0</td>\n",
       "      <td>7368 146447 316564 42610 55736 297797 93042 53...</td>\n",
       "      <td>816903 565958 726082 764656 335008 75094 20282...</td>\n",
       "    </tr>\n",
       "    <tr>\n",
       "      <th>1</th>\n",
       "      <td>1</td>\n",
       "      <td>985531 473628 1044285 1121849 206763 462208 11...</td>\n",
       "      <td>729468 520477 529032 101368 335130 520477 1113...</td>\n",
       "    </tr>\n",
       "    <tr>\n",
       "      <th>2</th>\n",
       "      <td>2</td>\n",
       "      <td>7368 7368 7368 7368 7368 7368 7368 7368 7368 7...</td>\n",
       "      <td>816903 816903 816903 816903 816903 816903 8169...</td>\n",
       "    </tr>\n",
       "    <tr>\n",
       "      <th>3</th>\n",
       "      <td>3</td>\n",
       "      <td>529819 1226459 856005 1177293 663773 272235 93...</td>\n",
       "      <td>231664 1033823 524850 330478 507199 520477 618...</td>\n",
       "    </tr>\n",
       "    <tr>\n",
       "      <th>4</th>\n",
       "      <td>4</td>\n",
       "      <td>42610 1252069 1077049 955883 1125260 1044285 2...</td>\n",
       "      <td>545370 379223 162767 520477 1194630 1197475 11...</td>\n",
       "    </tr>\n",
       "  </tbody>\n",
       "</table>\n",
       "</div>"
      ],
      "text/plain": [
       "   id                                            article  \\\n",
       "0   0  7368 146447 316564 42610 55736 297797 93042 53...   \n",
       "1   1  985531 473628 1044285 1121849 206763 462208 11...   \n",
       "2   2  7368 7368 7368 7368 7368 7368 7368 7368 7368 7...   \n",
       "3   3  529819 1226459 856005 1177293 663773 272235 93...   \n",
       "4   4  42610 1252069 1077049 955883 1125260 1044285 2...   \n",
       "\n",
       "                                            word_seg  \n",
       "0  816903 565958 726082 764656 335008 75094 20282...  \n",
       "1  729468 520477 529032 101368 335130 520477 1113...  \n",
       "2  816903 816903 816903 816903 816903 816903 8169...  \n",
       "3  231664 1033823 524850 330478 507199 520477 618...  \n",
       "4  545370 379223 162767 520477 1194630 1197475 11...  "
      ]
     },
     "execution_count": 4,
     "metadata": {},
     "output_type": "execute_result"
    }
   ],
   "source": [
    "# 导入测试集\n",
    "test_data = pd.read_csv(r'C:\\Users\\10068899\\OneDrive\\sublime python\\new_data\\test_set.csv')\n",
    "print(\"test_data.shape:\",test_data.shape)\n",
    "test_data.head()"
   ]
  },
  {
   "cell_type": "markdown",
   "metadata": {},
   "source": [
    "测试集和训练集相似，但没有“class”这个字段。"
   ]
  },
  {
   "cell_type": "markdown",
   "metadata": {},
   "source": [
    "### EDA\n",
    "\n",
    "一. 检查目标列的分布"
   ]
  },
  {
   "cell_type": "code",
   "execution_count": 5,
   "metadata": {},
   "outputs": [
    {
     "data": {
      "text/plain": [
       "3     8313\n",
       "13    7907\n",
       "9     7675\n",
       "15    7511\n",
       "18    7066\n",
       "8     6972\n",
       "6     6888\n",
       "14    6740\n",
       "19    5524\n",
       "1     5375\n",
       "12    5326\n",
       "10    4963\n",
       "4     3824\n",
       "11    3571\n",
       "16    3220\n",
       "17    3094\n",
       "7     3038\n",
       "2     2901\n",
       "5     2369\n",
       "Name: class, dtype: int64"
      ]
     },
     "execution_count": 5,
     "metadata": {},
     "output_type": "execute_result"
    }
   ],
   "source": [
    "train_data['class'].value_counts()"
   ]
  },
  {
   "cell_type": "code",
   "execution_count": 6,
   "metadata": {},
   "outputs": [
    {
     "data": {
      "text/plain": [
       "<matplotlib.axes._subplots.AxesSubplot at 0x16e16b0a4a8>"
      ]
     },
     "execution_count": 6,
     "metadata": {},
     "output_type": "execute_result"
    },
    {
     "data": {
      "image/png": "[encoded data removed]",
      "text/plain": [
       "<matplotlib.figure.Figure at 0x16e1627bda0>"
      ]
     },
     "metadata": {},
     "output_type": "display_data"
    }
   ],
   "source": [
    "train_data['class'].astype(int).plot.hist(bins = 19)"
   ]
  },
  {
   "cell_type": "markdown",
   "metadata": {},
   "source": [
    "由上图可知，这是一个不平衡的多分类问题（imbalance class problem）,解决方法包括基于采样方法和基于cost function的方法。本文将采用SMOTE过采样方法。\n",
    "\n",
    "二. 检查缺失值（missing value）"
   ]
  },
  {
   "cell_type": "code",
   "execution_count": 7,
   "metadata": {},
   "outputs": [
    {
     "name": "stdout",
     "output_type": "stream",
     "text": [
      "train data missing value：\n",
      "miss_value: id          0\n",
      "article     0\n",
      "word_seg    0\n",
      "class       0\n",
      "dtype: int64\n",
      "miss_value_percent: id          0.0\n",
      "article     0.0\n",
      "word_seg    0.0\n",
      "class       0.0\n",
      "dtype: float64 %\n",
      "test data missing value:\n",
      "miss_value: id          0\n",
      "article     0\n",
      "word_seg    0\n",
      "dtype: int64\n",
      "miss_value_percent: id          0.0\n",
      "article     0.0\n",
      "word_seg    0.0\n",
      "dtype: float64 %\n"
     ]
    }
   ],
   "source": [
    "# 基于列统计数据中的null值\n",
    "def missing_value_table(df):\n",
    "    # 总的缺失值的个数\n",
    "    miss_value = df.isnull().sum()\n",
    "    \n",
    "    # 缺失值占总数的百分比\n",
    "    miss_value_per = miss_value*100/len(df)\n",
    "    \n",
    "    # 为缺失值建立一个表格\n",
    "    print(\"miss_value:\", miss_value)\n",
    "    print(\"miss_value_percent:\" , miss_value_per, \"%\")\n",
    "    \n",
    "print(\"train data missing value：\")\n",
    "missing_value_table(train_data)\n",
    "\n",
    "print(\"test data missing value:\")\n",
    "missing_value_table(test_data)"
   ]
  },
  {
   "cell_type": "markdown",
   "metadata": {},
   "source": [
    "我们的表格很干净，并不存在缺失值。\n",
    "\n",
    "三。 列的类型"
   ]
  },
  {
   "cell_type": "code",
   "execution_count": 8,
   "metadata": {},
   "outputs": [
    {
     "data": {
      "text/plain": [
       "id           int64\n",
       "article     object\n",
       "word_seg    object\n",
       "class        int64\n",
       "dtype: object"
      ]
     },
     "execution_count": 8,
     "metadata": {},
     "output_type": "execute_result"
    }
   ],
   "source": [
    "train_data.dtypes"
   ]
  },
  {
   "cell_type": "code",
   "execution_count": null,
   "metadata": {},
   "outputs": [],
   "source": []
  },
  {
   "cell_type": "markdown",
   "metadata": {},
   "source": [
    "### 特征工程（feature engineering）\n",
    "\n",
    "对于文本字段，我们采用TF-IDF指标来表征文本。表格中有字和词两类特征，我们先使用词特征来作为模型的输入特征。"
   ]
  },
  {
   "cell_type": "code",
   "execution_count": 9,
   "metadata": {},
   "outputs": [
    {
     "data": {
      "text/plain": [
       "(102277, 875122)"
      ]
     },
     "execution_count": 9,
     "metadata": {},
     "output_type": "execute_result"
    }
   ],
   "source": [
    "# 导入TfidfVectorizer类\n",
    "from sklearn.feature_extraction.text import TfidfVectorizer\n",
    "\n",
    "vec = TfidfVectorizer()\n",
    "X_word_seg_train = vec.fit_transform(train_data['word_seg'])\n",
    "X_word_seg_train.shape"
   ]
  },
  {
   "cell_type": "markdown",
   "metadata": {},
   "source": [
    "使用SVD方法进行降维"
   ]
  },
  {
   "cell_type": "code",
   "execution_count": 10,
   "metadata": {},
   "outputs": [
    {
     "data": {
      "text/plain": [
       "(102277, 100)"
      ]
     },
     "execution_count": 10,
     "metadata": {},
     "output_type": "execute_result"
    }
   ],
   "source": [
    "#\n",
    "from sklearn.decomposition import TruncatedSVD\n",
    "from sklearn.pipeline import make_pipeline\n",
    "from sklearn.preprocessing import Normalizer\n",
    "\n",
    "svd = TruncatedSVD(100)\n",
    "normalizer = Normalizer(copy=False)\n",
    "lsa = make_pipeline(svd, normalizer)\n",
    "\n",
    "X = lsa.fit_transform(X_word_seg_train)\n",
    "\n",
    "X.shape"
   ]
  },
  {
   "cell_type": "markdown",
   "metadata": {},
   "source": [
    "相关系数"
   ]
  },
  {
   "cell_type": "code",
   "execution_count": 11,
   "metadata": {},
   "outputs": [
    {
     "data": {
      "text/plain": [
       "Text(0.5,1,'Correlation Heatmap')"
      ]
     },
     "execution_count": 11,
     "metadata": {},
     "output_type": "execute_result"
    },
    {
     "data": {
      "image/png": "[encoded data removed]",
      "text/plain": [
       "<matplotlib.figure.Figure at 0x16ec25e6780>"
      ]
     },
     "metadata": {},
     "output_type": "display_data"
    }
   ],
   "source": [
    "target = train_data['class']\n",
    "data = pd.DataFrame(X[:,:5])\n",
    "data_corr = data.corr()\n",
    "data_corr\n",
    "\n",
    "# Heatmap of correlations\n",
    "sns.heatmap(data_corr, cmap = plt.cm.RdYlBu_r, vmin = -0.25, annot = True, vmax = 0.6)\n",
    "plt.title('Correlation Heatmap')"
   ]
  },
  {
   "cell_type": "markdown",
   "metadata": {},
   "source": [
    "### Baseline Model\n",
    "\n",
    "使用线性svc分类"
   ]
  },
  {
   "cell_type": "code",
   "execution_count": 30,
   "metadata": {},
   "outputs": [
    {
     "name": "stdout",
     "output_type": "stream",
     "text": [
      "{'SVC': array([0.47162023, 0.53286385, 0.60634495, 0.70119522, 0.68758916,\n",
      "       0.84705882, 0.52989691, 0.62724127, 0.83344051, 0.59247136,\n",
      "       0.50975456, 0.49074564, 0.65457788, 0.68466597, 0.78069175,\n",
      "       0.35281837, 0.52723312, 0.71630537, 0.38247619]), 'RandomForestClassifier': array([0.54959514, 0.68405797, 0.76303855, 0.761347  , 0.75555556,\n",
      "       0.87004813, 0.62171629, 0.65637542, 0.87310898, 0.62210526,\n",
      "       0.59807074, 0.57491459, 0.70123748, 0.73711531, 0.86000691,\n",
      "       0.53553038, 0.64711274, 0.78318438, 0.49021277]), 'GaussianNB': array([0.39228296, 0.52269171, 0.5800738 , 0.67355982, 0.75222363,\n",
      "       0.75315169, 0.52830189, 0.5145287 , 0.77079677, 0.49429224,\n",
      "       0.38117647, 0.392296  , 0.5331943 , 0.63272411, 0.74343122,\n",
      "       0.308     , 0.57692308, 0.59948762, 0.27709943])}\n"
     ]
    }
   ],
   "source": [
    "from sklearn.naive_bayes import GaussianNB\n",
    "from sklearn.metrics import f1_score\n",
    "from sklearn.metrics import confusion_matrix\n",
    "from sklearn.svm import SVC\n",
    "from sklearn.ensemble import RandomForestClassifier\n",
    "from sklearn.model_selection import train_test_split\n",
    "\n",
    "y = train_data['class']\n",
    "X_train, X_test, y_train, y_test = train_test_split(X, y, random_state=0, test_size = 0.2)\n",
    "\n",
    "clfs = [SVC(),\n",
    "       RandomForestClassifier(n_estimators = 500),\n",
    "       GaussianNB()]\n",
    "\n",
    "f1_score_dic = {}\n",
    "for clf in clfs:\n",
    "    name = clf.__class__.__name__\n",
    "    clf.fit(X_train, y_train)\n",
    "    predicted = clf.predict(X_test)\n",
    "    score = f1_score( y_test, predicted, average=None)\n",
    "    f1_score_dic[name] = score\n",
    "#     mat = confusion_matrix(y_test, predicted)\n",
    "#     print(name+\" confusion_matrix:\")\n",
    "#     sns.heatmap(mat.T, square=True, annot=True, fmt='d', cbar=False,)\n",
    "#     plt.xlabel('true label')\n",
    "#     plt.ylabel('predicted label');\n",
    "    \n",
    "print(f1_score_dic)"
   ]
  },
  {
   "cell_type": "code",
   "execution_count": 31,
   "metadata": {},
   "outputs": [
    {
     "name": "stdout",
     "output_type": "stream",
     "text": [
      "SVC 0.606789007333564\n",
      "RandomForestClassifier 0.6886491371134783\n",
      "GaussianNB 0.5487492328202078\n"
     ]
    }
   ],
   "source": [
    "for k in f1_score_dic:\n",
    "    print(k, np.mean(f1_score_dic[k]))"
   ]
  }
 ],
 "metadata": {
  "kernelspec": {
   "display_name": "Python 3",
   "language": "python",
   "name": "python3"
  },
  "language_info": {
   "codemirror_mode": {
    "name": "ipython",
    "version": 3
   },
   "file_extension": ".py",
   "mimetype": "text/x-python",
   "name": "python",
   "nbconvert_exporter": "python",
   "pygments_lexer": "ipython3",
   "version": "3.6.4"
  }
 },
 "nbformat": 4,
 "nbformat_minor": 2
}
